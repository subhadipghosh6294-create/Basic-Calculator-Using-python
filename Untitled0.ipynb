{
  "nbformat": 4,
  "nbformat_minor": 0,
  "metadata": {
    "colab": {
      "provenance": [],
      "authorship_tag": "ABX9TyMr5YVDwpjdBNHizkweg9aB",
      "include_colab_link": true
    },
    "kernelspec": {
      "name": "python3",
      "display_name": "Python 3"
    },
    "language_info": {
      "name": "python"
    }
  },
  "cells": [
    {
      "cell_type": "markdown",
      "metadata": {
        "id": "view-in-github",
        "colab_type": "text"
      },
      "source": [
        "<a href=\"https://colab.research.google.com/github/subhadipghosh6294-create/Basic-Calculator-Using-python/blob/main/Untitled0.ipynb\" target=\"_parent\"><img src=\"https://colab.research.google.com/assets/colab-badge.svg\" alt=\"Open In Colab\"/></a>"
      ]
    },
    {
      "cell_type": "markdown",
      "source": [
        "Basic Calculator"
      ],
      "metadata": {
        "id": "azV4dEBSxvGC"
      }
    },
    {
      "cell_type": "code",
      "source": [
        "\n",
        "def add(x, y):\n",
        "    return x + y\n",
        "\n",
        "def subtract(x, y):\n",
        "    return x - y\n",
        "\n",
        "def multiply(x, y):\n",
        "    return x * y\n",
        "\n",
        "def divide(x, y):\n",
        "    if y == 0:\n",
        "        return \"Error! Division by zero.\"\n",
        "    return x / y\n",
        "\n",
        "print(\"Select operation:\")\n",
        "print(\"1. Add\")\n",
        "print(\"2. Subtract\")\n",
        "print(\"3. Multiply\")\n",
        "print(\"4. Divide\")\n",
        "\n",
        "choice = input(\"Enter choice (1/2/3/4): \")\n",
        "\n",
        "try:\n",
        "    num1 = float(input(\"Enter first number: \"))\n",
        "    num2 = float(input(\"Enter second number: \"))\n",
        "\n",
        "    if choice == '1':\n",
        "        print(\"Result:\", add(num1, num2))\n",
        "    elif choice == '2':\n",
        "        print(\"Result:\", subtract(num1, num2))\n",
        "    elif choice == '3':\n",
        "        print(\"Result:\", multiply(num1, num2))\n",
        "    elif choice == '4':\n",
        "        print(\"Result:\", divide(num1, num2))\n",
        "    else:\n",
        "        print(\"Invalid1 input\")\n",
        "except ValueError:\n",
        "    print(\"Please enter valid numbers.\")\n"
      ],
      "metadata": {
        "colab": {
          "base_uri": "https://localhost:8080/"
        },
        "id": "n6xAMkICx4ZG",
        "outputId": "e44cc54c-4615-453f-e5f9-aceb46a08679"
      },
      "execution_count": 13,
      "outputs": [
        {
          "output_type": "stream",
          "name": "stdout",
          "text": [
            "Select operation:\n",
            "1. Add\n",
            "2. Subtract\n",
            "3. Multiply\n",
            "4. Divide\n",
            "Enter choice (1/2/3/4): 3\n",
            "Enter first number: 45\n",
            "Enter second number: 6\n",
            "Result: 270.0\n"
          ]
        }
      ]
    }
  ]
}